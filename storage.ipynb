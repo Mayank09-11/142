{
 "cells": [
  {
   "cell_type": "code",
   "execution_count": 2,
   "metadata": {},
   "outputs": [
    {
     "ename": "NameError",
     "evalue": "name 'c' is not defined",
     "output_type": "error",
     "traceback": [
      "\u001b[1;31m---------------------------------------------------------------------------\u001b[0m",
      "\u001b[1;31mNameError\u001b[0m                                 Traceback (most recent call last)",
      "\u001b[1;32mc:\\Users\\sansk\\OneDrive\\Desktop\\New folder (11)\\c-142-main\\c-142-main\\storage.ipynb Cell 1\u001b[0m line \u001b[0;36m3\n\u001b[0;32m      <a href='vscode-notebook-cell:/c%3A/Users/sansk/OneDrive/Desktop/New%20folder%20%2811%29/c-142-main/c-142-main/storage.ipynb#W0sZmlsZQ%3D%3D?line=0'>1</a>\u001b[0m \u001b[39mimport\u001b[39;00m \u001b[39mcsv\u001b[39;00m\n\u001b[1;32m----> <a href='vscode-notebook-cell:/c%3A/Users/sansk/OneDrive/Desktop/New%20folder%20%2811%29/c-142-main/c-142-main/storage.ipynb#W0sZmlsZQ%3D%3D?line=2'>3</a>\u001b[0m all_movies \u001b[39m=\u001b[39m [c\u001b[39m-\u001b[39m\u001b[39m142\u001b[39m\u001b[39m-\u001b[39mmain\u001b[39m/\u001b[39mfinal\u001b[39m.\u001b[39mcsv]\n\u001b[0;32m      <a href='vscode-notebook-cell:/c%3A/Users/sansk/OneDrive/Desktop/New%20folder%20%2811%29/c-142-main/c-142-main/storage.ipynb#W0sZmlsZQ%3D%3D?line=4'>5</a>\u001b[0m \u001b[39mwith\u001b[39;00m \u001b[39mopen\u001b[39m(\u001b[39m'\u001b[39m\u001b[39m'\u001b[39m) \u001b[39mas\u001b[39;00m f:\n\u001b[0;32m      <a href='vscode-notebook-cell:/c%3A/Users/sansk/OneDrive/Desktop/New%20folder%20%2811%29/c-142-main/c-142-main/storage.ipynb#W0sZmlsZQ%3D%3D?line=5'>6</a>\u001b[0m     reader \u001b[39m=\u001b[39m csv\u001b[39m.\u001b[39mreader(f)\n",
      "\u001b[1;31mNameError\u001b[0m: name 'c' is not defined"
     ]
    }
   ],
   "source": [
    "import csv\n",
    "\n",
    "all_movies = [c-142-main/final.csv]\n",
    "\n",
    "with open('') as f:\n",
    "    reader = csv.reader(f)\n",
    "    data = list(reader)\n",
    "    all_movies = data[1:]\n",
    "\n",
    "liked_movies = []\n",
    "not_liked_movies = []\n",
    "did_not_watch = []"
   ]
  }
 ],
 "metadata": {
  "kernelspec": {
   "display_name": "Python 3",
   "language": "python",
   "name": "python3"
  },
  "language_info": {
   "codemirror_mode": {
    "name": "ipython",
    "version": 3
   },
   "file_extension": ".py",
   "mimetype": "text/x-python",
   "name": "python",
   "nbconvert_exporter": "python",
   "pygments_lexer": "ipython3",
   "version": "3.8.6"
  }
 },
 "nbformat": 4,
 "nbformat_minor": 2
}
