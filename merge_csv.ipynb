{
 "cells": [
  {
   "cell_type": "code",
   "execution_count": 1,
   "metadata": {},
   "outputs": [
    {
     "ename": "UnicodeDecodeError",
     "evalue": "'charmap' codec can't decode byte 0x81 in position 6548: character maps to <undefined>",
     "output_type": "error",
     "traceback": [
      "\u001b[1;31m---------------------------------------------------------------------------\u001b[0m",
      "\u001b[1;31mUnicodeDecodeError\u001b[0m                        Traceback (most recent call last)",
      "\u001b[1;32mc:\\Users\\sansk\\OneDrive\\Desktop\\New folder (11)\\c-142-main\\c-142-main\\merge_csv.ipynb Cell 1\u001b[0m line \u001b[0;36m5\n\u001b[0;32m      <a href='vscode-notebook-cell:/c%3A/Users/sansk/OneDrive/Desktop/New%20folder%20%2811%29/c-142-main/c-142-main/merge_csv.ipynb#W0sZmlsZQ%3D%3D?line=2'>3</a>\u001b[0m \u001b[39mwith\u001b[39;00m \u001b[39mopen\u001b[39m(\u001b[39m'\u001b[39m\u001b[39mmovies.csv\u001b[39m\u001b[39m'\u001b[39m) \u001b[39mas\u001b[39;00m f:\n\u001b[0;32m      <a href='vscode-notebook-cell:/c%3A/Users/sansk/OneDrive/Desktop/New%20folder%20%2811%29/c-142-main/c-142-main/merge_csv.ipynb#W0sZmlsZQ%3D%3D?line=3'>4</a>\u001b[0m     reader \u001b[39m=\u001b[39m csv\u001b[39m.\u001b[39mreader(f)\n\u001b[1;32m----> <a href='vscode-notebook-cell:/c%3A/Users/sansk/OneDrive/Desktop/New%20folder%20%2811%29/c-142-main/c-142-main/merge_csv.ipynb#W0sZmlsZQ%3D%3D?line=4'>5</a>\u001b[0m     data \u001b[39m=\u001b[39m \u001b[39mlist\u001b[39;49m(reader)\n\u001b[0;32m      <a href='vscode-notebook-cell:/c%3A/Users/sansk/OneDrive/Desktop/New%20folder%20%2811%29/c-142-main/c-142-main/merge_csv.ipynb#W0sZmlsZQ%3D%3D?line=5'>6</a>\u001b[0m     all_movies \u001b[39m=\u001b[39m data[\u001b[39m1\u001b[39m:]\n\u001b[0;32m      <a href='vscode-notebook-cell:/c%3A/Users/sansk/OneDrive/Desktop/New%20folder%20%2811%29/c-142-main/c-142-main/merge_csv.ipynb#W0sZmlsZQ%3D%3D?line=6'>7</a>\u001b[0m     headers \u001b[39m=\u001b[39m data[\u001b[39m0\u001b[39m]\n",
      "File \u001b[1;32mc:\\Users\\sansk\\AppData\\Local\\Programs\\Python\\Python38\\lib\\encodings\\cp1252.py:23\u001b[0m, in \u001b[0;36mIncrementalDecoder.decode\u001b[1;34m(self, input, final)\u001b[0m\n\u001b[0;32m     22\u001b[0m \u001b[39mdef\u001b[39;00m \u001b[39mdecode\u001b[39m(\u001b[39mself\u001b[39m, \u001b[39minput\u001b[39m, final\u001b[39m=\u001b[39m\u001b[39mFalse\u001b[39;00m):\n\u001b[1;32m---> 23\u001b[0m     \u001b[39mreturn\u001b[39;00m codecs\u001b[39m.\u001b[39;49mcharmap_decode(\u001b[39minput\u001b[39;49m,\u001b[39mself\u001b[39;49m\u001b[39m.\u001b[39;49merrors,decoding_table)[\u001b[39m0\u001b[39m]\n",
      "\u001b[1;31mUnicodeDecodeError\u001b[0m: 'charmap' codec can't decode byte 0x81 in position 6548: character maps to <undefined>"
     ]
    }
   ],
   "source": [
    "import csv\n",
    "\n",
    "with open('movies.csv') as f:\n",
    "    reader = csv.reader(f)\n",
    "    data = list(reader)\n",
    "    all_movies = data[1:]\n",
    "    headers = data[0]\n",
    "\n",
    "headers.append(\"poster_link\")\n",
    "\n",
    "with open(\"final.csv\", \"a+\") as f:\n",
    "    csvwriter = csv.writer(f)\n",
    "    csvwriter.writerow(headers)\n",
    "\n",
    "with open(\"movie_links.csv\") as f:\n",
    "    reader = csv.reader(f)\n",
    "    data = list(reader)\n",
    "    all_movie_links = data[1:]\n",
    "\n",
    "for movie_item in all_movies:\n",
    "    poster_found = any(movie_item[8] in movie_link_items for movie_link_items in all_movie_links)\n",
    "    if poster_found:\n",
    "        for movie_link_item in all_movie_links:\n",
    "            if movie_item[8] == movie_link_item[0]:\n",
    "                movie_item.append(movie_link_item[1])\n",
    "                if len(movie_item) == 28:\n",
    "                    with open(\"final.csv\", \"a+\") as f:\n",
    "                        csvwriter = csv.writer(f)\n",
    "                        csvwriter.writerow(movie_item)"
   ]
  }
 ],
 "metadata": {
  "kernelspec": {
   "display_name": "Python 3",
   "language": "python",
   "name": "python3"
  },
  "language_info": {
   "codemirror_mode": {
    "name": "ipython",
    "version": 3
   },
   "file_extension": ".py",
   "mimetype": "text/x-python",
   "name": "python",
   "nbconvert_exporter": "python",
   "pygments_lexer": "ipython3",
   "version": "3.8.6"
  }
 },
 "nbformat": 4,
 "nbformat_minor": 2
}
